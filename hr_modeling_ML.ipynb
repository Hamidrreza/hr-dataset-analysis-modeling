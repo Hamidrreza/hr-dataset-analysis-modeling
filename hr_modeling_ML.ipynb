{
 "cells": [
  {
   "cell_type": "markdown",
   "id": "285a9824",
   "metadata": {},
   "source": [
    "# HR dataset Machine Learning Modeling"
   ]
  },
  {
   "cell_type": "markdown",
   "id": "21e759e9",
   "metadata": {},
   "source": [
    "This part will complete soon..."
   ]
  },
  {
   "cell_type": "code",
   "execution_count": null,
   "id": "bc8e89db",
   "metadata": {},
   "outputs": [],
   "source": []
  }
 ],
 "metadata": {
  "kernelspec": {
   "display_name": "Python 3",
   "language": "python",
   "name": "python3"
  },
  "language_info": {
   "codemirror_mode": {
    "name": "ipython",
    "version": 3
   },
   "file_extension": ".py",
   "mimetype": "text/x-python",
   "name": "python",
   "nbconvert_exporter": "python",
   "pygments_lexer": "ipython3",
   "version": "3.7.4"
  }
 },
 "nbformat": 4,
 "nbformat_minor": 5
}
