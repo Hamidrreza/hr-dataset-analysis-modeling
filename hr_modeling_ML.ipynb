{
 "cells": [
  {
   "cell_type": "markdown",
   "id": "285a9824",
   "metadata": {},
   "source": [
    "# HR dataset Machine Learning Modeling"
   ]
  },
  {
   "cell_type": "markdown",
   "id": "21e759e9",
   "metadata": {},
   "source": [
    "This part is for modeling machine learning algorithms in dataset.<br>\n",
    "Dataset is splited in 2 parts from data analysis part.<br>\n",
    "- one part is with encoding categorical features in pandas.\n",
    "- second part is without categorical features and we want to solve it with sklearn library."
   ]
  },
  {
   "cell_type": "code",
   "execution_count": 1,
   "id": "bc8e89db",
   "metadata": {},
   "outputs": [],
   "source": [
    "import numpy as np\n",
    "import pandas as pd\n",
    "import matplotlib.pyplot as plt\n",
    "import seaborn as sns\n",
    "import warnings\n",
    "warnings.filterwarnings('ignore')\n",
    "plt.style.use('ggplot')"
   ]
  },
  {
   "cell_type": "code",
   "execution_count": 2,
   "id": "3173953b",
   "metadata": {},
   "outputs": [],
   "source": [
    "# load data sets\n",
    "encoded_train = pd.read_csv('dataset/train_hr_data_cleaned_v1.csv')\n",
    "encoded_test = pd.read_csv('dataset/test_hr_data_cleaned_v1.csv')\n",
    "\n",
    "nonen_train = pd.read_csv('dataset/train_hr_data_cleaned_v2.csv')\n",
    "nonen_test = pd.read_csv('dataset/test_hr_data_cleaned_v2.csv')"
   ]
  },
  {
   "cell_type": "code",
   "execution_count": 3,
   "id": "8d8d0d65",
   "metadata": {},
   "outputs": [],
   "source": [
    "encoded_train = encoded_train.drop('enrollee_id', axis=1)\n",
    "nonen_train = nonen_train.drop('enrollee_id', axis=1)"
   ]
  },
  {
   "cell_type": "code",
   "execution_count": 4,
   "id": "3244ac01",
   "metadata": {
    "scrolled": true
   },
   "outputs": [
    {
     "data": {
      "text/html": [
       "<div>\n",
       "<style scoped>\n",
       "    .dataframe tbody tr th:only-of-type {\n",
       "        vertical-align: middle;\n",
       "    }\n",
       "\n",
       "    .dataframe tbody tr th {\n",
       "        vertical-align: top;\n",
       "    }\n",
       "\n",
       "    .dataframe thead th {\n",
       "        text-align: right;\n",
       "    }\n",
       "</style>\n",
       "<table border=\"1\" class=\"dataframe\">\n",
       "  <thead>\n",
       "    <tr style=\"text-align: right;\">\n",
       "      <th></th>\n",
       "      <th>city</th>\n",
       "      <th>city_development_index</th>\n",
       "      <th>gender</th>\n",
       "      <th>relevent_experience</th>\n",
       "      <th>enrolled_university</th>\n",
       "      <th>education_level</th>\n",
       "      <th>major_discipline</th>\n",
       "      <th>experience</th>\n",
       "      <th>company_size</th>\n",
       "      <th>company_type</th>\n",
       "      <th>last_new_job</th>\n",
       "      <th>training_hours</th>\n",
       "      <th>target</th>\n",
       "    </tr>\n",
       "  </thead>\n",
       "  <tbody>\n",
       "    <tr>\n",
       "      <th>0</th>\n",
       "      <td>77</td>\n",
       "      <td>0.776</td>\n",
       "      <td>0</td>\n",
       "      <td>1</td>\n",
       "      <td>0</td>\n",
       "      <td>0</td>\n",
       "      <td>0</td>\n",
       "      <td>2</td>\n",
       "      <td>1</td>\n",
       "      <td>2</td>\n",
       "      <td>1</td>\n",
       "      <td>47</td>\n",
       "      <td>0.0</td>\n",
       "    </tr>\n",
       "  </tbody>\n",
       "</table>\n",
       "</div>"
      ],
      "text/plain": [
       "   city  city_development_index  gender  relevent_experience  \\\n",
       "0    77                   0.776       0                    1   \n",
       "\n",
       "   enrolled_university  education_level  major_discipline  experience  \\\n",
       "0                    0                0                 0           2   \n",
       "\n",
       "   company_size  company_type  last_new_job  training_hours  target  \n",
       "0             1             2             1              47     0.0  "
      ]
     },
     "metadata": {},
     "output_type": "display_data"
    },
    {
     "data": {
      "text/html": [
       "<div>\n",
       "<style scoped>\n",
       "    .dataframe tbody tr th:only-of-type {\n",
       "        vertical-align: middle;\n",
       "    }\n",
       "\n",
       "    .dataframe tbody tr th {\n",
       "        vertical-align: top;\n",
       "    }\n",
       "\n",
       "    .dataframe thead th {\n",
       "        text-align: right;\n",
       "    }\n",
       "</style>\n",
       "<table border=\"1\" class=\"dataframe\">\n",
       "  <thead>\n",
       "    <tr style=\"text-align: right;\">\n",
       "      <th></th>\n",
       "      <th>city</th>\n",
       "      <th>city_development_index</th>\n",
       "      <th>gender</th>\n",
       "      <th>relevent_experience</th>\n",
       "      <th>enrolled_university</th>\n",
       "      <th>education_level</th>\n",
       "      <th>major_discipline</th>\n",
       "      <th>experience</th>\n",
       "      <th>company_size</th>\n",
       "      <th>company_type</th>\n",
       "      <th>last_new_job</th>\n",
       "      <th>training_hours</th>\n",
       "      <th>target</th>\n",
       "    </tr>\n",
       "  </thead>\n",
       "  <tbody>\n",
       "    <tr>\n",
       "      <th>0</th>\n",
       "      <td>city_40</td>\n",
       "      <td>0.776</td>\n",
       "      <td>Male</td>\n",
       "      <td>No relevent experience</td>\n",
       "      <td>no_enrollment</td>\n",
       "      <td>Graduate</td>\n",
       "      <td>STEM</td>\n",
       "      <td>15</td>\n",
       "      <td>50-99</td>\n",
       "      <td>Pvt Ltd</td>\n",
       "      <td>&gt;4</td>\n",
       "      <td>47</td>\n",
       "      <td>0.0</td>\n",
       "    </tr>\n",
       "  </tbody>\n",
       "</table>\n",
       "</div>"
      ],
      "text/plain": [
       "      city  city_development_index gender     relevent_experience  \\\n",
       "0  city_40                   0.776   Male  No relevent experience   \n",
       "\n",
       "  enrolled_university education_level major_discipline experience  \\\n",
       "0       no_enrollment        Graduate             STEM         15   \n",
       "\n",
       "  company_size company_type last_new_job  training_hours  target  \n",
       "0        50-99      Pvt Ltd           >4              47     0.0  "
      ]
     },
     "metadata": {},
     "output_type": "display_data"
    }
   ],
   "source": [
    "display(encoded_train.head(1))\n",
    "display(nonen_train.head(1))"
   ]
  },
  {
   "cell_type": "markdown",
   "id": "fa1498b0",
   "metadata": {},
   "source": [
    "# Modeling V1 Dataset"
   ]
  },
  {
   "cell_type": "code",
   "execution_count": 5,
   "id": "68dfeee1",
   "metadata": {},
   "outputs": [],
   "source": [
    "from sklearn.model_selection import train_test_split\n",
    "from sklearn.metrics import mean_squared_error\n",
    "from sklearn.linear_model import LogisticRegression\n",
    "from sklearn.tree import DecisionTreeClassifier\n",
    "from sklearn.ensemble import RandomForestClassifier\n",
    "from sklearn.preprocessing import StandardScaler\n",
    "from sklearn.compose import ColumnTransformer\n",
    "from sklearn.preprocessing import OneHotEncoder"
   ]
  },
  {
   "cell_type": "code",
   "execution_count": 6,
   "id": "998ea139",
   "metadata": {},
   "outputs": [],
   "source": [
    "x_v1 = encoded_train.drop('target', axis=1)\n",
    "y_v1 = encoded_train['target']"
   ]
  },
  {
   "cell_type": "code",
   "execution_count": 7,
   "id": "7a13170f",
   "metadata": {},
   "outputs": [],
   "source": [
    "scale = StandardScaler()\n",
    "x_v1_scale = scale.fit_transform(x_v1)"
   ]
  },
  {
   "cell_type": "code",
   "execution_count": 8,
   "id": "f11827d6",
   "metadata": {},
   "outputs": [],
   "source": [
    "xtrain_v1, xtest_v1, ytrain_v1, ytest_v1 = train_test_split(x_v1_scale, y_v1, test_size=0.2, random_state=42)"
   ]
  },
  {
   "cell_type": "code",
   "execution_count": 9,
   "id": "baa7e85b",
   "metadata": {},
   "outputs": [],
   "source": [
    "reg_model = LogisticRegression()\n",
    "tree_model = DecisionTreeClassifier()\n",
    "forest_model = RandomForestClassifier()"
   ]
  },
  {
   "cell_type": "code",
   "execution_count": 10,
   "id": "1b1e2c85",
   "metadata": {},
   "outputs": [],
   "source": [
    "# function for predict and caclute mse of models\n",
    "def modeling(model, xtrain, ytrain, xtest, ytest):\n",
    "    model.fit(xtrain, ytrain)\n",
    "    train_pred = model.predict(xtrain)\n",
    "    test_pred = model.predict(xtest)\n",
    "    train_error = np.sqrt(mean_squared_error(ytrain, train_pred))\n",
    "    test_error = np.sqrt(mean_squared_error(ytest, test_pred))\n",
    "    return train_error, test_error"
   ]
  },
  {
   "cell_type": "code",
   "execution_count": 11,
   "id": "b37f95a7",
   "metadata": {},
   "outputs": [],
   "source": [
    "# tre = train error , tee = test error\n",
    "reg_tre, reg_tee = modeling(reg_model, xtrain_v1, ytrain_v1, xtest_v1, ytest_v1)\n",
    "tree_tre, tree_tee = modeling(tree_model, xtrain_v1, ytrain_v1, xtest_v1, ytest_v1)\n",
    "forest_tre, forest_tee = modeling(forest_model, xtrain_v1, ytrain_v1, xtest_v1, ytest_v1)"
   ]
  },
  {
   "cell_type": "markdown",
   "id": "5bf74e52",
   "metadata": {},
   "source": [
    "# Modeling V2 Dataset"
   ]
  },
  {
   "cell_type": "code",
   "execution_count": 12,
   "id": "7fc32ecb",
   "metadata": {},
   "outputs": [],
   "source": [
    "x_v2 = nonen_train.drop('target', axis=1)\n",
    "y_v2 = nonen_train['target']\n",
    "\n",
    "num_data = x_v2.select_dtypes(exclude='object')\n",
    "cat_data = x_v2.select_dtypes(include='object')\n",
    "\n",
    "num_data_list = list(num_data)\n",
    "cat_data_list = list(cat_data)"
   ]
  },
  {
   "cell_type": "code",
   "execution_count": 13,
   "id": "3186ed61",
   "metadata": {},
   "outputs": [],
   "source": [
    "transformer = ColumnTransformer([\n",
    "                                ('numbers', StandardScaler(), num_data_list),\n",
    "                                ('categories', OneHotEncoder(), cat_data_list)\n",
    "])"
   ]
  },
  {
   "cell_type": "code",
   "execution_count": 14,
   "id": "9fac7ae4",
   "metadata": {},
   "outputs": [],
   "source": [
    "x_v2_scale = transformer.fit_transform(x_v2)"
   ]
  },
  {
   "cell_type": "code",
   "execution_count": 15,
   "id": "f30da7a1",
   "metadata": {},
   "outputs": [],
   "source": [
    "xtrain_v2, xtest_v2, ytrain_v2, ytest_v2 = train_test_split(x_v2_scale, y_v2, test_size=0.2, random_state=42)"
   ]
  },
  {
   "cell_type": "code",
   "execution_count": 16,
   "id": "f4566012",
   "metadata": {},
   "outputs": [],
   "source": [
    "reg_model_2 = LogisticRegression()\n",
    "tree_model_2 = DecisionTreeClassifier()\n",
    "forest_model_2 = RandomForestClassifier()"
   ]
  },
  {
   "cell_type": "code",
   "execution_count": 17,
   "id": "b99c68b5",
   "metadata": {},
   "outputs": [],
   "source": [
    "reg_tre_2, reg_tee_2 = modeling(reg_model_2, xtrain_v2, ytrain_v2, xtest_v2, ytest_v2)\n",
    "tree_tre_2, tree_tee_2 = modeling(tree_model_2, xtrain_v2, ytrain_v2, xtest_v2, ytest_v2)\n",
    "forest_tre_2, forest_tee_2 = modeling(forest_model_2, xtrain_v2, ytrain_v2, xtest_v2, ytest_v2)"
   ]
  },
  {
   "cell_type": "code",
   "execution_count": 18,
   "id": "d8b0fb48",
   "metadata": {},
   "outputs": [],
   "source": [
    "compare_df = pd.DataFrame({\n",
    "                            'Models':['regression', 'decision tree', 'random forest',\n",
    "                                     'regression_2', 'decision tree_2', 'random forest_2'],\n",
    "                            'train error':[reg_tre, tree_tre, forest_tre,\n",
    "                                          reg_tre_2, tree_tre_2, forest_tre_2],\n",
    "                            'test error':[reg_tee, tree_tee, forest_tee,\n",
    "                                         reg_tee_2, tree_tee_2, forest_tee_2],\n",
    "})"
   ]
  },
  {
   "cell_type": "code",
   "execution_count": 19,
   "id": "562e355a",
   "metadata": {},
   "outputs": [
    {
     "data": {
      "text/html": [
       "<style  type=\"text/css\" >\n",
       "#T_8a3d3_row0_col1,#T_8a3d3_row4_col2{\n",
       "            background-color:  #008000;\n",
       "            color:  #f1f1f1;\n",
       "        }#T_8a3d3_row0_col2{\n",
       "            background-color:  #c5e0c5;\n",
       "            color:  #000000;\n",
       "        }#T_8a3d3_row1_col1,#T_8a3d3_row2_col1{\n",
       "            background-color:  #add5ad;\n",
       "            color:  #000000;\n",
       "        }#T_8a3d3_row1_col2,#T_8a3d3_row3_col1{\n",
       "            background-color:  #088408;\n",
       "            color:  #f1f1f1;\n",
       "        }#T_8a3d3_row2_col2{\n",
       "            background-color:  #99cb99;\n",
       "            color:  #000000;\n",
       "        }#T_8a3d3_row3_col2,#T_8a3d3_row4_col1,#T_8a3d3_row5_col1{\n",
       "            background-color:  #ebf3eb;\n",
       "            color:  #000000;\n",
       "            background-color:  yellow;\n",
       "        }#T_8a3d3_row5_col2{\n",
       "            background-color:  #bcdcbc;\n",
       "            color:  #000000;\n",
       "        }</style><table id=\"T_8a3d3_\" ><thead>    <tr>        <th class=\"blank level0\" ></th>        <th class=\"col_heading level0 col0\" >Models</th>        <th class=\"col_heading level0 col1\" >train error</th>        <th class=\"col_heading level0 col2\" >test error</th>    </tr></thead><tbody>\n",
       "                <tr>\n",
       "                        <th id=\"T_8a3d3_level0_row0\" class=\"row_heading level0 row0\" >0</th>\n",
       "                        <td id=\"T_8a3d3_row0_col0\" class=\"data row0 col0\" >regression</td>\n",
       "                        <td id=\"T_8a3d3_row0_col1\" class=\"data row0 col1\" >0.474061</td>\n",
       "                        <td id=\"T_8a3d3_row0_col2\" class=\"data row0 col2\" >0.476026</td>\n",
       "            </tr>\n",
       "            <tr>\n",
       "                        <th id=\"T_8a3d3_level0_row1\" class=\"row_heading level0 row1\" >1</th>\n",
       "                        <td id=\"T_8a3d3_row1_col0\" class=\"data row1 col0\" >decision tree</td>\n",
       "                        <td id=\"T_8a3d3_row1_col1\" class=\"data row1 col1\" >0.147426</td>\n",
       "                        <td id=\"T_8a3d3_row1_col2\" class=\"data row1 col2\" >0.545257</td>\n",
       "            </tr>\n",
       "            <tr>\n",
       "                        <th id=\"T_8a3d3_level0_row2\" class=\"row_heading level0 row2\" >2</th>\n",
       "                        <td id=\"T_8a3d3_row2_col0\" class=\"data row2 col0\" >random forest</td>\n",
       "                        <td id=\"T_8a3d3_row2_col1\" class=\"data row2 col1\" >0.147426</td>\n",
       "                        <td id=\"T_8a3d3_row2_col2\" class=\"data row2 col2\" >0.492188</td>\n",
       "            </tr>\n",
       "            <tr>\n",
       "                        <th id=\"T_8a3d3_level0_row3\" class=\"row_heading level0 row3\" >3</th>\n",
       "                        <td id=\"T_8a3d3_row3_col0\" class=\"data row3 col0\" >regression_2</td>\n",
       "                        <td id=\"T_8a3d3_row3_col1\" class=\"data row3 col1\" >0.457496</td>\n",
       "                        <td id=\"T_8a3d3_row3_col2\" class=\"data row3 col2\" >0.462127</td>\n",
       "            </tr>\n",
       "            <tr>\n",
       "                        <th id=\"T_8a3d3_level0_row4\" class=\"row_heading level0 row4\" >4</th>\n",
       "                        <td id=\"T_8a3d3_row4_col0\" class=\"data row4 col0\" >decision tree_2</td>\n",
       "                        <td id=\"T_8a3d3_row4_col1\" class=\"data row4 col1\" >0.029485</td>\n",
       "                        <td id=\"T_8a3d3_row4_col2\" class=\"data row4 col2\" >0.548436</td>\n",
       "            </tr>\n",
       "            <tr>\n",
       "                        <th id=\"T_8a3d3_level0_row5\" class=\"row_heading level0 row5\" >5</th>\n",
       "                        <td id=\"T_8a3d3_row5_col0\" class=\"data row5 col0\" >random forest_2</td>\n",
       "                        <td id=\"T_8a3d3_row5_col1\" class=\"data row5 col1\" >0.029485</td>\n",
       "                        <td id=\"T_8a3d3_row5_col2\" class=\"data row5 col2\" >0.479363</td>\n",
       "            </tr>\n",
       "    </tbody></table>"
      ],
      "text/plain": [
       "<pandas.io.formats.style.Styler at 0x446abed08>"
      ]
     },
     "execution_count": 19,
     "metadata": {},
     "output_type": "execute_result"
    }
   ],
   "source": [
    "#cm = sns.set_palette('Set2')\n",
    "cm = sns.light_palette('green', as_cmap=True)\n",
    "compare_df.style.background_gradient(cmap=cm).highlight_min(axis=0, color='yellow')"
   ]
  },
  {
   "cell_type": "markdown",
   "id": "4f2ed213",
   "metadata": {},
   "source": [
    "### not finished yet"
   ]
  },
  {
   "cell_type": "code",
   "execution_count": null,
   "id": "0eae5197",
   "metadata": {},
   "outputs": [],
   "source": [
    "\n"
   ]
  }
 ],
 "metadata": {
  "kernelspec": {
   "display_name": "Python 3",
   "language": "python",
   "name": "python3"
  },
  "language_info": {
   "codemirror_mode": {
    "name": "ipython",
    "version": 3
   },
   "file_extension": ".py",
   "mimetype": "text/x-python",
   "name": "python",
   "nbconvert_exporter": "python",
   "pygments_lexer": "ipython3",
   "version": "3.7.4"
  }
 },
 "nbformat": 4,
 "nbformat_minor": 5
}
